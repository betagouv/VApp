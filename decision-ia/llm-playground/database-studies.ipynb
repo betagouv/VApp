{
 "cells": [
  {
   "cell_type": "code",
   "execution_count": 2,
   "metadata": {},
   "outputs": [],
   "source": [
    "import pandas as pd \n",
    "import plotly.express as px"
   ]
  },
  {
   "cell_type": "code",
   "execution_count": 32,
   "metadata": {},
   "outputs": [],
   "source": [
    "data_project_score = pd.read_csv(\"hard-database/data_project_scoring.csv\",index_col=0).rename(columns={\"scoing_made\":\"scoring_made\"})\n",
    "data_project_score['project_len_char'] = data_project_score['project'].apply(len)\n",
    "data_project_score['project_description_short'] = data_project_score['project'].apply(lambda x : x[:50])\n",
    "data_project_score['name_short'] = data_project_score['name'].apply(lambda x : x[:50])"
   ]
  },
  {
   "cell_type": "code",
   "execution_count": 33,
   "metadata": {},
   "outputs": [],
   "source": [
    "px.scatter(data_project_score,color='project_description_short',hover_data=['name_short'],y='project_score',x='token_numb_description_md').write_html('project_score.html')"
   ]
  }
 ],
 "metadata": {
  "kernelspec": {
   "display_name": "Python 3",
   "language": "python",
   "name": "python3"
  },
  "language_info": {
   "codemirror_mode": {
    "name": "ipython",
    "version": 3
   },
   "file_extension": ".py",
   "mimetype": "text/x-python",
   "name": "python",
   "nbconvert_exporter": "python",
   "pygments_lexer": "ipython3",
   "version": "3.11.10"
  }
 },
 "nbformat": 4,
 "nbformat_minor": 2
}
