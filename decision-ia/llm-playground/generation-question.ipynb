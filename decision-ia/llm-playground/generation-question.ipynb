{
 "cells": [
  {
   "cell_type": "markdown",
   "metadata": {},
   "source": [
    "# Import"
   ]
  },
  {
   "cell_type": "code",
   "execution_count": 1,
   "metadata": {},
   "outputs": [],
   "source": [
    "from decouple import Config, RepositoryEnv\n",
    "from ollama_interaction import embeding_ollama_request,generate_ollama_request\n",
    "\n",
    "import pandas as pd\n",
    "import plotly.express as px\n",
    "import json"
   ]
  },
  {
   "cell_type": "markdown",
   "metadata": {},
   "source": [
    "## Import des données sur les modèles\n",
    "Nous importons les modèles servant de base pour VApp. Par défaut, les modèles sont quantifiés en int4."
   ]
  },
  {
   "cell_type": "code",
   "execution_count": 2,
   "metadata": {},
   "outputs": [
    {
     "name": "stdout",
     "output_type": "stream",
     "text": [
      "model : mistral-nemo:latest\n",
      "model : mistral-small:latest\n",
      "model : qwen2.5:14b\n",
      "model : qwen2.5:32b\n",
      "model : llama3.2:1b\n",
      "model : llama3.1:latest\n"
     ]
    }
   ],
   "source": [
    "# context option are based on https://github.com/NVIDIA/RULER\n",
    "# If model is not on doc we take the nearest one\n",
    "\n",
    "# best context is based on  Effective length\n",
    "# max context is base on claimed length\n",
    "\n",
    "with open('model-data.json','r') as file:\n",
    "    model_data = json.load(file)\n",
    "\n",
    "for item in list(model_data.keys()):\n",
    "    print('model :',item)"
   ]
  },
  {
   "cell_type": "code",
   "execution_count": 3,
   "metadata": {},
   "outputs": [],
   "source": [
    "config = Config(RepositoryEnv('.env'))\n",
    "\n",
    "ollama_api_url = config('OLLAMA_API_URL')\n",
    "ollama_bearer_token = config('OLLAMA_BEARER_TOKEN')"
   ]
  },
  {
   "cell_type": "markdown",
   "metadata": {},
   "source": [
    "## Import data base de travail\n",
    "Import de la base de données générée dans generation-score.ipynb."
   ]
  },
  {
   "cell_type": "code",
   "execution_count": 4,
   "metadata": {},
   "outputs": [],
   "source": [
    "data_project_score = pd.read_csv(\"hard-database/data_project_scoring.csv\").rename(columns={\"scoing_made\":\"scoring_made\"})\n",
    "data_project_score['project_len_char'] = data_project_score['project_description'].apply(len)"
   ]
  },
  {
   "cell_type": "code",
   "execution_count": 5,
   "metadata": {},
   "outputs": [
    {
     "data": {
      "text/html": [
       "<div>\n",
       "<style scoped>\n",
       "    .dataframe tbody tr th:only-of-type {\n",
       "        vertical-align: middle;\n",
       "    }\n",
       "\n",
       "    .dataframe tbody tr th {\n",
       "        vertical-align: top;\n",
       "    }\n",
       "\n",
       "    .dataframe thead th {\n",
       "        text-align: right;\n",
       "    }\n",
       "</style>\n",
       "<table border=\"1\" class=\"dataframe\">\n",
       "  <thead>\n",
       "    <tr style=\"text-align: right;\">\n",
       "      <th></th>\n",
       "      <th>Unnamed: 0</th>\n",
       "      <th>slug</th>\n",
       "      <th>url</th>\n",
       "      <th>name</th>\n",
       "      <th>name_initial</th>\n",
       "      <th>short_title</th>\n",
       "      <th>financers</th>\n",
       "      <th>financers_full</th>\n",
       "      <th>instructors</th>\n",
       "      <th>instructors_full</th>\n",
       "      <th>...</th>\n",
       "      <th>description_md</th>\n",
       "      <th>eligibility_md</th>\n",
       "      <th>token_numb_description_md</th>\n",
       "      <th>token_numb_description</th>\n",
       "      <th>token_numb_eligibility_md</th>\n",
       "      <th>token_numb_eligibility</th>\n",
       "      <th>project</th>\n",
       "      <th>project_score</th>\n",
       "      <th>scoring_made</th>\n",
       "      <th>project_len_char</th>\n",
       "    </tr>\n",
       "  </thead>\n",
       "  <tbody>\n",
       "    <tr>\n",
       "      <th>146</th>\n",
       "      <td>143318</td>\n",
       "      <td>06ae-maitriser-le-volet-nuisances-sonores-dans...</td>\n",
       "      <td>/aides/06ae-maitriser-le-volet-nuisances-sonor...</td>\n",
       "      <td>Maîtriser le volet « nuisances sonores » dans ...</td>\n",
       "      <td>NaN</td>\n",
       "      <td>NaN</td>\n",
       "      <td>['Cerema']</td>\n",
       "      <td>[{'id': 58, 'name': 'Cerema', 'logo': 'https:/...</td>\n",
       "      <td>[]</td>\n",
       "      <td>[]</td>\n",
       "      <td>...</td>\n",
       "      <td>\\n**Description :**\\n\\n\\n\\n\\n Le bruit routier...</td>\n",
       "      <td>\\n**Public :** \\n\\n\\n\\n\\n La formation s'adres...</td>\n",
       "      <td>718</td>\n",
       "      <td>920</td>\n",
       "      <td>150</td>\n",
       "      <td>182</td>\n",
       "      <td>Revitalisation d'une zone humide</td>\n",
       "      <td>23</td>\n",
       "      <td>5</td>\n",
       "      <td>32</td>\n",
       "    </tr>\n",
       "    <tr>\n",
       "      <th>401</th>\n",
       "      <td>162653</td>\n",
       "      <td>aider-les-commerces-a-se-moderniser</td>\n",
       "      <td>/aides/aider-les-commerces-a-se-moderniser/</td>\n",
       "      <td>Moderniser les commerces</td>\n",
       "      <td>Aide aux Commerces des Territoires (ACTe)</td>\n",
       "      <td>NaN</td>\n",
       "      <td>['Communauté de communes des Falaises du Talou']</td>\n",
       "      <td>[{'id': 2475, 'name': 'Communauté de communes ...</td>\n",
       "      <td>[]</td>\n",
       "      <td>[]</td>\n",
       "      <td>...</td>\n",
       "      <td>**Objectifs**\\n\\nLa Communauté de Communes\\r\\n...</td>\n",
       "      <td>Les entreprises doivent répondre\\r\\naux critèr...</td>\n",
       "      <td>1913</td>\n",
       "      <td>2568</td>\n",
       "      <td>670</td>\n",
       "      <td>1170</td>\n",
       "      <td>Revitalisation d'une zone humide</td>\n",
       "      <td>23</td>\n",
       "      <td>5</td>\n",
       "      <td>32</td>\n",
       "    </tr>\n",
       "    <tr>\n",
       "      <th>525</th>\n",
       "      <td>58670</td>\n",
       "      <td>eea7-appel-a-projets-0-phyto</td>\n",
       "      <td>/aides/eea7-appel-a-projets-0-phyto/</td>\n",
       "      <td>Réduire l'usage des produits phytosanitaires</td>\n",
       "      <td>NaN</td>\n",
       "      <td>NaN</td>\n",
       "      <td>[\"Conseil régional d'Occitanie\"]</td>\n",
       "      <td>[{'id': 91, 'name': \"Conseil régional d'Occita...</td>\n",
       "      <td>[]</td>\n",
       "      <td>[]</td>\n",
       "      <td>...</td>\n",
       "      <td>\\n Contexte et objectifs\\n\\n\\n\\n\\n La région O...</td>\n",
       "      <td>Consultez la page de l'aide pour obtenir des d...</td>\n",
       "      <td>790</td>\n",
       "      <td>957</td>\n",
       "      <td>44</td>\n",
       "      <td>44</td>\n",
       "      <td>Revitalisation d'une zone humide</td>\n",
       "      <td>23</td>\n",
       "      <td>5</td>\n",
       "      <td>32</td>\n",
       "    </tr>\n",
       "  </tbody>\n",
       "</table>\n",
       "<p>3 rows × 54 columns</p>\n",
       "</div>"
      ],
      "text/plain": [
       "     Unnamed: 0                                               slug  \\\n",
       "146      143318  06ae-maitriser-le-volet-nuisances-sonores-dans...   \n",
       "401      162653                aider-les-commerces-a-se-moderniser   \n",
       "525       58670                       eea7-appel-a-projets-0-phyto   \n",
       "\n",
       "                                                   url  \\\n",
       "146  /aides/06ae-maitriser-le-volet-nuisances-sonor...   \n",
       "401        /aides/aider-les-commerces-a-se-moderniser/   \n",
       "525               /aides/eea7-appel-a-projets-0-phyto/   \n",
       "\n",
       "                                                  name  \\\n",
       "146  Maîtriser le volet « nuisances sonores » dans ...   \n",
       "401                           Moderniser les commerces   \n",
       "525       Réduire l'usage des produits phytosanitaires   \n",
       "\n",
       "                                  name_initial short_title  \\\n",
       "146                                        NaN         NaN   \n",
       "401  Aide aux Commerces des Territoires (ACTe)         NaN   \n",
       "525                                        NaN         NaN   \n",
       "\n",
       "                                            financers  \\\n",
       "146                                        ['Cerema']   \n",
       "401  ['Communauté de communes des Falaises du Talou']   \n",
       "525                  [\"Conseil régional d'Occitanie\"]   \n",
       "\n",
       "                                        financers_full instructors  \\\n",
       "146  [{'id': 58, 'name': 'Cerema', 'logo': 'https:/...          []   \n",
       "401  [{'id': 2475, 'name': 'Communauté de communes ...          []   \n",
       "525  [{'id': 91, 'name': \"Conseil régional d'Occita...          []   \n",
       "\n",
       "    instructors_full  ...                                     description_md  \\\n",
       "146               []  ...  \\n**Description :**\\n\\n\\n\\n\\n Le bruit routier...   \n",
       "401               []  ...  **Objectifs**\\n\\nLa Communauté de Communes\\r\\n...   \n",
       "525               []  ...  \\n Contexte et objectifs\\n\\n\\n\\n\\n La région O...   \n",
       "\n",
       "                                        eligibility_md  \\\n",
       "146  \\n**Public :** \\n\\n\\n\\n\\n La formation s'adres...   \n",
       "401  Les entreprises doivent répondre\\r\\naux critèr...   \n",
       "525  Consultez la page de l'aide pour obtenir des d...   \n",
       "\n",
       "    token_numb_description_md token_numb_description  \\\n",
       "146                       718                    920   \n",
       "401                      1913                   2568   \n",
       "525                       790                    957   \n",
       "\n",
       "    token_numb_eligibility_md token_numb_eligibility  \\\n",
       "146                       150                    182   \n",
       "401                       670                   1170   \n",
       "525                        44                     44   \n",
       "\n",
       "                              project project_score  scoring_made  \\\n",
       "146  Revitalisation d'une zone humide            23             5   \n",
       "401  Revitalisation d'une zone humide            23             5   \n",
       "525  Revitalisation d'une zone humide            23             5   \n",
       "\n",
       "    project_len_char  \n",
       "146               32  \n",
       "401               32  \n",
       "525               32  \n",
       "\n",
       "[3 rows x 54 columns]"
      ]
     },
     "execution_count": 5,
     "metadata": {},
     "output_type": "execute_result"
    }
   ],
   "source": [
    "data_project_score_select = data_project_score[data_project_score['project_score']>20]\n",
    "data_project_score_select.head(3)"
   ]
  },
  {
   "cell_type": "markdown",
   "metadata": {},
   "source": [
    "## Usage de la fonction gen_prompt_question_mono_aide"
   ]
  },
  {
   "cell_type": "code",
   "execution_count": 6,
   "metadata": {},
   "outputs": [],
   "source": [
    "# Selection d'un échantillion simple\n",
    "row = data_project_score_select[['description_md','eligibility_md','project_description']].iloc[0]\n",
    "\n",
    "aide_description,aide_eligibility,project_description = row['description_md'],row['eligibility_md'],row['project_description']"
   ]
  },
  {
   "cell_type": "markdown",
   "metadata": {},
   "source": [
    "### Exemple d'usage\n",
    "Pour générer des résumés plus pertinents, nous avons besoin d'un LLM plus \"intelligent\". Notre choix s'est orienté vers Qwen 2.5-14B, qui représente un bon compromis entre vitesse, performance et intelligence."
   ]
  },
  {
   "cell_type": "code",
   "execution_count": 7,
   "metadata": {},
   "outputs": [],
   "source": [
    "# Fonction disponible sous ./prompt_script/gen_prompt_question_mono_aide.py\n",
    "from prompt_script.gen_prompt_question_mono_aide import gen_prompt_question_mono_aide"
   ]
  },
  {
   "cell_type": "code",
   "execution_count": 8,
   "metadata": {},
   "outputs": [],
   "source": [
    "model = \"qwen2.5:14b\"\n",
    "model_options = model_data[model]\n",
    "\n",
    "request_options = {\n",
    "    \"num_ctx\": 16384,\n",
    "    \"num_predict\": 512\n",
    "}\n",
    "\n",
    "num_question = 3\n",
    "\n",
    "\n",
    "prompt_system, prompt_user = gen_prompt_question_mono_aide(aide_description,aide_eligibility,project_description,num_question)\n",
    "\n",
    "response = generate_ollama_request(\n",
    "    prompt_system=prompt_system,\n",
    "    response_format=\"json\",\n",
    "    prompt_user=prompt_user,\n",
    "    ollama_api_url=ollama_api_url,\n",
    "    bearer_token=ollama_bearer_token,\n",
    "    model_options = model_options,  # Default to None\n",
    "    model=model, \n",
    "    request_options= request_options,  # Default to None\n",
    "    seed=0,\n",
    "    )"
   ]
  },
  {
   "cell_type": "markdown",
   "metadata": {},
   "source": [
    "### Convertion au format json\n",
    "**Attention** : lors de l'usage du json il peut rester des reliquats de balise html, un post traitement peux aider"
   ]
  },
  {
   "cell_type": "code",
   "execution_count": 9,
   "metadata": {},
   "outputs": [
    {
     "data": {
      "text/plain": [
       "{'Q1': \"Pourriez-vous nous dire dans quelle mesure la revitalisation de cette zone humide nécessite une évaluation acoustique, et comment cela serait-il lié à l'infrastructure routière voisine?\",\n",
       " 'Q2': \"Cette formation est-elle destinée aux personnes qui ont déjà suivi le module d'introduction ou pour celles qui n'en possèdent pas encore la connaissance nécessaire? Si c'est une personne spécifique, quel sera son niveau de connaissances en acoustique avant cette session?\",\n",
       " 'Q3': \"Quels aspects pratiques spécifiques liés à l'étude du bruit attendez-vous d'apprendre lors des ateliers et études sur le terrain?\"}"
      ]
     },
     "execution_count": 9,
     "metadata": {},
     "output_type": "execute_result"
    }
   ],
   "source": [
    "json_text = response['response']\n",
    "\n",
    "# Remplacer les caractères HTML par une apostrophe\n",
    "json_text = json_text.replace('&#39;', \"'\")\n",
    "\n",
    "# Convertir la chaîne en dictionnaire Python\n",
    "response_json = json.loads(json_text)\n",
    "\n",
    "response_json"
   ]
  },
  {
   "cell_type": "code",
   "execution_count": 10,
   "metadata": {},
   "outputs": [],
   "source": [
    "project_list = data_project_score_select.project.unique()"
   ]
  },
  {
   "cell_type": "markdown",
   "metadata": {},
   "source": [
    "## Usage de la fonction gen_prompt_question_mono_aide"
   ]
  },
  {
   "cell_type": "markdown",
   "metadata": {},
   "source": [
    "### Exemple d'usage\n",
    "Nous avons remarqué que l'utilisation de plusieurs aides pour générer les questions était plus pertinente.\n",
    "Nous avons donc implémenté une méthode capable d'intégrer trois questions basées sur un échantillon des trois meilleures aides trouvées.\n",
    "\n",
    "Contrairement à la méthode \"mono\", nous n'intégrons pas l'éligibilité, ce qui permet d'avoir des questions plus générales et moins contraintes par les critères d'éligibilité. Cela aide l'utilisateur à mieux se concentrer sur son projet."
   ]
  },
  {
   "cell_type": "code",
   "execution_count": 11,
   "metadata": {},
   "outputs": [],
   "source": [
    "# Fonction disponible sous ./prompt_script/gen_prompt_question_multi_aide.py\n",
    "from prompt_script.gen_prompt_question_multi_aide import gen_prompt_question_multi_aide"
   ]
  },
  {
   "cell_type": "code",
   "execution_count": 12,
   "metadata": {},
   "outputs": [
    {
     "name": "stdout",
     "output_type": "stream",
     "text": [
      "---------------\n",
      "Revitalisation d'une zone humide\n",
      "---------------\n",
      "Entretient d'un vieux moulin\n",
      "---------------\n",
      "Réhabilitation d'une ancienne école en lieu dédié à la santé.\n",
      "---------------\n",
      "Voir fiche action PVD /ORT n°21 Après une première phase d’aménagement, la commune poursuit son action dans le cadre d’une 2ème phase d’aménagement. Cette prochaine étape concerne : - La mise en accessibilité du site aux personnes en situation de handicap et l’installation d’équipements en accès libre favorisant la pratique physique. - La protection de l’environnement par l’installation de sanitaires autonomes et la création d’un site O déchets - La création d'un parcours pédagogique\n",
      "---------------\n",
      "La commune dispose d'outils numériques qu'il est nécessaire d'optimiser et coordonner\n",
      "---------------\n",
      "Création d’un sentier thématique sur la forêt à Rieutord et sur le patrimoine à Usclades\n",
      "---------------\n",
      "Je souhaite refaire la voirie communal\n",
      "---------------\n",
      "Le projet consiste en l’aménagement d’un terrain communal en cœur de commune, jouxtant une structure crèche multi-accueil et un pôle culturel (médiathèque avec une salle attenante). La commune porte le projet d’aménager le reste du site, afin d’offrir aux habitants des espaces de loisirs et de rencontres intergénérationnelles, en lien à la fois avec ces nouvelles structures, mais également avec les usages existants. Avec l’implication des élus du Conseil Municipal des Jeunes, plusieurs hypothèses sont imaginées avec la volonté d’installer / aménager des jeux pour jeunes enfants, des espaces de rencontres, des cheminements, des dispositifs en faveur de la biodiversité, des arbres fruitiers, d’instaurer l’opération « Une naissance, un arbre\n"
     ]
    }
   ],
   "source": [
    "number_of_sub = 3\n",
    "\n",
    "data_list_out = []\n",
    "\n",
    "request_options = {\n",
    "    \"num_ctx\": 16384,\n",
    "    \"num_predict\": 512\n",
    "}\n",
    "\n",
    "for project_description in project_list:\n",
    "    data_project_best = data_project_score_select[data_project_score_select['project']==project_description].sort_values(\"project_score\")[-number_of_sub:]\n",
    "    aide_description_list = data_project_best['description_md'].values\n",
    "    sub1,sub2,sub3 = aide_description_list\n",
    "\n",
    "    try:\n",
    "        prompt_system, prompt_user = gen_prompt_question_multi_aide(aide_description_list,project_description,num_question)\n",
    "        response = generate_ollama_request(\n",
    "            prompt_system=prompt_system,\n",
    "            response_format=\"json\",\n",
    "            prompt_user=prompt_user,\n",
    "            ollama_api_url=ollama_api_url,\n",
    "            bearer_token=ollama_bearer_token,\n",
    "            model_options = model_options,  # Default to None\n",
    "            model=model, \n",
    "            request_options= request_options,  # Default to None\n",
    "            seed=0,\n",
    "            )\n",
    "\n",
    "        json_text = response['response']\n",
    "\n",
    "        # Remplacer les caractères HTML par une apostrophe\n",
    "        json_text = json_text.replace('&#39;', \"'\")\n",
    "\n",
    "        # Convertir la chaîne en dictionnaire Python\n",
    "        response_json = json.loads(json_text)\n",
    "\n",
    "        q1 = response_json['Q1']\n",
    "        q2 = response_json['Q2']\n",
    "        q3 = response_json['Q3']\n",
    "\n",
    "        data_list_out.append([project_description,sub1,sub2,sub3,q1,q2,q3])\n",
    "        print('---------------')\n",
    "        print(project_description)\n",
    "    except Exception as error:\n",
    "        print(error)"
   ]
  },
  {
   "cell_type": "code",
   "execution_count": 13,
   "metadata": {},
   "outputs": [],
   "source": [
    "data_question = pd.DataFrame(data_list_out,columns=['project','sub1','sub2','sub3','q1','q2','q3'])\n",
    "data_question.to_csv('hard-database/data_question.csv')"
   ]
  }
 ],
 "metadata": {
  "kernelspec": {
   "display_name": "Python 3",
   "language": "python",
   "name": "python3"
  },
  "language_info": {
   "codemirror_mode": {
    "name": "ipython",
    "version": 3
   },
   "file_extension": ".py",
   "mimetype": "text/x-python",
   "name": "python",
   "nbconvert_exporter": "python",
   "pygments_lexer": "ipython3",
   "version": "3.11.10"
  }
 },
 "nbformat": 4,
 "nbformat_minor": 2
}
