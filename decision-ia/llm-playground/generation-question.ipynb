{
 "cells": [
  {
   "cell_type": "markdown",
   "metadata": {},
   "source": [
    "# Init"
   ]
  },
  {
   "cell_type": "code",
   "execution_count": 9,
   "metadata": {},
   "outputs": [],
   "source": [
    "from decouple import Config, RepositoryEnv\n",
    "from ollama_interaction import embeding_ollama_request,generate_ollama_request\n",
    "\n",
    "import pandas as pd\n",
    "import plotly.express as px\n",
    "import json"
   ]
  },
  {
   "cell_type": "code",
   "execution_count": 2,
   "metadata": {},
   "outputs": [],
   "source": [
    "config = Config(RepositoryEnv('.env'))\n",
    "\n",
    "ollama_api_url = config('OLLAMA_API_URL')\n",
    "ollama_bearer_token = config('OLLAMA_BEARER_TOKEN')"
   ]
  },
  {
   "cell_type": "code",
   "execution_count": 3,
   "metadata": {},
   "outputs": [
    {
     "name": "stdout",
     "output_type": "stream",
     "text": [
      "model : mistral-nemo:latest\n",
      "model : mistral-small:latest\n",
      "model : qwen2.5:14b\n",
      "model : qwen2.5:32b\n",
      "model : llama3.2:1b\n",
      "model : llama3.1:latest\n"
     ]
    }
   ],
   "source": [
    "# context option are based on https://github.com/NVIDIA/RULER\n",
    "# If model is not on doc we take the nearest one\n",
    "\n",
    "# best context is based on  Effective length\n",
    "# max context is base on claimed length\n",
    "\n",
    "with open('model-data.json','r') as file:\n",
    "    model_data = json.load(file)\n",
    "\n",
    "for item in list(model_data.keys()):\n",
    "    print('model :',item)"
   ]
  },
  {
   "cell_type": "code",
   "execution_count": 21,
   "metadata": {},
   "outputs": [],
   "source": [
    "data_project_score = pd.read_csv(\"hard-database/data_project_scoring.csv\").rename(columns={\"scoing_made\":\"scoring_made\"})\n",
    "data_project_score['project_len_char'] = data_project_score['project'].apply(len)"
   ]
  },
  {
   "cell_type": "code",
   "execution_count": 105,
   "metadata": {},
   "outputs": [
    {
     "data": {
      "text/html": [
       "<div>\n",
       "<style scoped>\n",
       "    .dataframe tbody tr th:only-of-type {\n",
       "        vertical-align: middle;\n",
       "    }\n",
       "\n",
       "    .dataframe tbody tr th {\n",
       "        vertical-align: top;\n",
       "    }\n",
       "\n",
       "    .dataframe thead th {\n",
       "        text-align: right;\n",
       "    }\n",
       "</style>\n",
       "<table border=\"1\" class=\"dataframe\">\n",
       "  <thead>\n",
       "    <tr style=\"text-align: right;\">\n",
       "      <th></th>\n",
       "      <th>Unnamed: 0</th>\n",
       "      <th>slug</th>\n",
       "      <th>url</th>\n",
       "      <th>name</th>\n",
       "      <th>name_initial</th>\n",
       "      <th>short_title</th>\n",
       "      <th>financers</th>\n",
       "      <th>financers_full</th>\n",
       "      <th>instructors</th>\n",
       "      <th>instructors_full</th>\n",
       "      <th>...</th>\n",
       "      <th>description_md</th>\n",
       "      <th>eligibility_md</th>\n",
       "      <th>token_numb_description_md</th>\n",
       "      <th>token_numb_description</th>\n",
       "      <th>token_numb_eligibility_md</th>\n",
       "      <th>token_numb_eligibility</th>\n",
       "      <th>project</th>\n",
       "      <th>project_score</th>\n",
       "      <th>scoring_made</th>\n",
       "      <th>project_len_char</th>\n",
       "    </tr>\n",
       "  </thead>\n",
       "  <tbody>\n",
       "    <tr>\n",
       "      <th>146</th>\n",
       "      <td>143318</td>\n",
       "      <td>06ae-maitriser-le-volet-nuisances-sonores-dans...</td>\n",
       "      <td>/aides/06ae-maitriser-le-volet-nuisances-sonor...</td>\n",
       "      <td>Maîtriser le volet « nuisances sonores » dans ...</td>\n",
       "      <td>NaN</td>\n",
       "      <td>NaN</td>\n",
       "      <td>['Cerema']</td>\n",
       "      <td>[{'id': 58, 'name': 'Cerema', 'logo': 'https:/...</td>\n",
       "      <td>[]</td>\n",
       "      <td>[]</td>\n",
       "      <td>...</td>\n",
       "      <td>\\n**Description :**\\n\\n\\n\\n\\n Le bruit routier...</td>\n",
       "      <td>\\n**Public :** \\n\\n\\n\\n\\n La formation s'adres...</td>\n",
       "      <td>718</td>\n",
       "      <td>920</td>\n",
       "      <td>150</td>\n",
       "      <td>182</td>\n",
       "      <td>Revitalisation d'une zone humide</td>\n",
       "      <td>23</td>\n",
       "      <td>5</td>\n",
       "      <td>32</td>\n",
       "    </tr>\n",
       "    <tr>\n",
       "      <th>401</th>\n",
       "      <td>162653</td>\n",
       "      <td>aider-les-commerces-a-se-moderniser</td>\n",
       "      <td>/aides/aider-les-commerces-a-se-moderniser/</td>\n",
       "      <td>Moderniser les commerces</td>\n",
       "      <td>Aide aux Commerces des Territoires (ACTe)</td>\n",
       "      <td>NaN</td>\n",
       "      <td>['Communauté de communes des Falaises du Talou']</td>\n",
       "      <td>[{'id': 2475, 'name': 'Communauté de communes ...</td>\n",
       "      <td>[]</td>\n",
       "      <td>[]</td>\n",
       "      <td>...</td>\n",
       "      <td>**Objectifs**\\n\\nLa Communauté de Communes\\r\\n...</td>\n",
       "      <td>Les entreprises doivent répondre\\r\\naux critèr...</td>\n",
       "      <td>1913</td>\n",
       "      <td>2568</td>\n",
       "      <td>670</td>\n",
       "      <td>1170</td>\n",
       "      <td>Revitalisation d'une zone humide</td>\n",
       "      <td>23</td>\n",
       "      <td>5</td>\n",
       "      <td>32</td>\n",
       "    </tr>\n",
       "    <tr>\n",
       "      <th>525</th>\n",
       "      <td>58670</td>\n",
       "      <td>eea7-appel-a-projets-0-phyto</td>\n",
       "      <td>/aides/eea7-appel-a-projets-0-phyto/</td>\n",
       "      <td>Réduire l'usage des produits phytosanitaires</td>\n",
       "      <td>NaN</td>\n",
       "      <td>NaN</td>\n",
       "      <td>[\"Conseil régional d'Occitanie\"]</td>\n",
       "      <td>[{'id': 91, 'name': \"Conseil régional d'Occita...</td>\n",
       "      <td>[]</td>\n",
       "      <td>[]</td>\n",
       "      <td>...</td>\n",
       "      <td>\\n Contexte et objectifs\\n\\n\\n\\n\\n La région O...</td>\n",
       "      <td>Consultez la page de l'aide pour obtenir des d...</td>\n",
       "      <td>790</td>\n",
       "      <td>957</td>\n",
       "      <td>44</td>\n",
       "      <td>44</td>\n",
       "      <td>Revitalisation d'une zone humide</td>\n",
       "      <td>23</td>\n",
       "      <td>5</td>\n",
       "      <td>32</td>\n",
       "    </tr>\n",
       "  </tbody>\n",
       "</table>\n",
       "<p>3 rows × 54 columns</p>\n",
       "</div>"
      ],
      "text/plain": [
       "     Unnamed: 0                                               slug  \\\n",
       "146      143318  06ae-maitriser-le-volet-nuisances-sonores-dans...   \n",
       "401      162653                aider-les-commerces-a-se-moderniser   \n",
       "525       58670                       eea7-appel-a-projets-0-phyto   \n",
       "\n",
       "                                                   url  \\\n",
       "146  /aides/06ae-maitriser-le-volet-nuisances-sonor...   \n",
       "401        /aides/aider-les-commerces-a-se-moderniser/   \n",
       "525               /aides/eea7-appel-a-projets-0-phyto/   \n",
       "\n",
       "                                                  name  \\\n",
       "146  Maîtriser le volet « nuisances sonores » dans ...   \n",
       "401                           Moderniser les commerces   \n",
       "525       Réduire l'usage des produits phytosanitaires   \n",
       "\n",
       "                                  name_initial short_title  \\\n",
       "146                                        NaN         NaN   \n",
       "401  Aide aux Commerces des Territoires (ACTe)         NaN   \n",
       "525                                        NaN         NaN   \n",
       "\n",
       "                                            financers  \\\n",
       "146                                        ['Cerema']   \n",
       "401  ['Communauté de communes des Falaises du Talou']   \n",
       "525                  [\"Conseil régional d'Occitanie\"]   \n",
       "\n",
       "                                        financers_full instructors  \\\n",
       "146  [{'id': 58, 'name': 'Cerema', 'logo': 'https:/...          []   \n",
       "401  [{'id': 2475, 'name': 'Communauté de communes ...          []   \n",
       "525  [{'id': 91, 'name': \"Conseil régional d'Occita...          []   \n",
       "\n",
       "    instructors_full  ...                                     description_md  \\\n",
       "146               []  ...  \\n**Description :**\\n\\n\\n\\n\\n Le bruit routier...   \n",
       "401               []  ...  **Objectifs**\\n\\nLa Communauté de Communes\\r\\n...   \n",
       "525               []  ...  \\n Contexte et objectifs\\n\\n\\n\\n\\n La région O...   \n",
       "\n",
       "                                        eligibility_md  \\\n",
       "146  \\n**Public :** \\n\\n\\n\\n\\n La formation s'adres...   \n",
       "401  Les entreprises doivent répondre\\r\\naux critèr...   \n",
       "525  Consultez la page de l'aide pour obtenir des d...   \n",
       "\n",
       "    token_numb_description_md token_numb_description  \\\n",
       "146                       718                    920   \n",
       "401                      1913                   2568   \n",
       "525                       790                    957   \n",
       "\n",
       "    token_numb_eligibility_md token_numb_eligibility  \\\n",
       "146                       150                    182   \n",
       "401                       670                   1170   \n",
       "525                        44                     44   \n",
       "\n",
       "                              project project_score  scoring_made  \\\n",
       "146  Revitalisation d'une zone humide            23             5   \n",
       "401  Revitalisation d'une zone humide            23             5   \n",
       "525  Revitalisation d'une zone humide            23             5   \n",
       "\n",
       "    project_len_char  \n",
       "146               32  \n",
       "401               32  \n",
       "525               32  \n",
       "\n",
       "[3 rows x 54 columns]"
      ]
     },
     "execution_count": 105,
     "metadata": {},
     "output_type": "execute_result"
    }
   ],
   "source": [
    "data_project_score_select = data_project_score[data_project_score['project_score']>20]\n",
    "data_project_score_select.head(3)"
   ]
  },
  {
   "cell_type": "code",
   "execution_count": 135,
   "metadata": {},
   "outputs": [],
   "source": [
    "def gen_prompt_question_mono_sub(sub_description:str, sub_eligibility:str, project_description:str, num_question:int=3)->(str,str):\n",
    "    prompt_system = f\"\"\"Tu es une IA bienveillante qui aide l'utilisateur à préciser les éléments de son projet en lien avec une aide ou une subvention.\n",
    "\n",
    "    Ton rôle est de poser des questions simples et encourageantes, permettant à l'utilisateur d'explorer son projet plus en détail et en lien avec les critères de la subvention.\n",
    "\n",
    "    Tu répondras exclusivement au format JSON, en respectant strictement le format demandé.\"\"\"\n",
    "    \n",
    "    prompt_user = f\"\"\" **Instruction**\n",
    "    \n",
    "    Pose exactement {num_question} questions bienveillantes et constructives en lien avec l’aide/subvention et le projet. Les questions doivent inciter l’utilisateur à clarifier des détails pratiques ou concrets en lien avec le programme, sans se perdre dans des informations superflues.\n",
    "\n",
    "    Tu répondras au format JSON suivant : {{\"Q1\": str, \"Q2\": str, \"Q3\": str}}\n",
    "\n",
    "    Utilise les informations suivantes pour déterminer les questions :\n",
    "    \n",
    "    - **Description de l'aide/subvention :**\n",
    "    {sub_description}\n",
    "\n",
    "    - **Description de l'aide/subvention :**\n",
    "    {sub_eligibility}\n",
    "    \n",
    "    - **Description du projet :**\n",
    "    {project_description}\n",
    "    \"\"\"\n",
    "\n",
    "    return prompt_system, prompt_user\n",
    "\n",
    "def gen_prompt_question_multi_sub(sub_description_list:list[str], project_description:str, num_question=3)->(str,str):\n",
    "    prompt_system = f\"\"\"Tu es une IA bienveillante qui aide l'utilisateur à préciser les éléments de son projet en lien avec des aides ou des subventions.\n",
    "\n",
    "    Ton rôle est de poser des questions simples et encourageantes, permettant à l'utilisateur d'explorer son projet plus en détail et en lien avec les critères des subventions.\n",
    "\n",
    "    Tu répondras exclusivement au format JSON, en respectant strictement le format demandé.\"\"\"\n",
    "    \n",
    "\n",
    "    sub_description_list_text = \"\".join([f\"**\\n-Description aide {i} :**\\n{sub_description_list[i]}\" for i in range(len(sub_description_list))])\n",
    "\n",
    "    prompt_user = f\"\"\" **Instruction**\n",
    "    \n",
    "    Pose exactement {num_question} questions bienveillantes et constructives en lien avec la list de subvention et le projet. Les questions doivent inciter l’utilisateur à clarifier des détails pratiques ou concrets en lien avec le programme, sans se perdre dans des informations superflues.\n",
    "\n",
    "    Tu répondras au format JSON suivant : {{\"Q1\": str, \"Q2\": str, \"Q3\": str}}\n",
    "\n",
    "    Utilise les informations suivantes pour déterminer les questions :\n",
    "    {sub_description_list_text}\n",
    "\n",
    "    - **Description du projet :**\n",
    "    {project_description}\n",
    "    \"\"\"\n",
    "\n",
    "    return prompt_system, prompt_user"
   ]
  },
  {
   "cell_type": "code",
   "execution_count": 57,
   "metadata": {},
   "outputs": [],
   "source": [
    "row = data_project_score_select[['description_md','eligibility_md','project']].iloc[0]\n",
    "\n",
    "sub_description,sub_eligibility,project_description = row['description_md'],row['eligibility_md'],row['project']"
   ]
  },
  {
   "cell_type": "code",
   "execution_count": 85,
   "metadata": {},
   "outputs": [],
   "source": [
    "model = \"qwen2.5:14b\"\n",
    "model_options = model_data[model]\n",
    "\n",
    "request_options = {\n",
    "    \"num_ctx\": 16384,\n",
    "    \"num_predict\": 512\n",
    "}\n",
    "\n",
    "num_question = 3\n",
    "\n",
    "\n",
    "prompt_system, prompt_user = gen_prompt_question_mono_sub(sub_description,sub_eligibility,project_description,num_question)\n",
    "\n",
    "response = generate_ollama_request(\n",
    "    prompt_system=prompt_system,\n",
    "    response_format=\"json\",\n",
    "    prompt_user=prompt_user,\n",
    "    ollama_api_url=ollama_api_url,\n",
    "    bearer_token=ollama_bearer_token,\n",
    "    model_options = model_options,  # Default to None\n",
    "    model=model, \n",
    "    request_options= request_options,  # Default to None\n",
    "    seed=0,\n",
    "    )"
   ]
  },
  {
   "cell_type": "code",
   "execution_count": 72,
   "metadata": {},
   "outputs": [
    {
     "data": {
      "text/plain": [
       "'{\"Q1\":\"Pourquoi est-ce important de bien comprendre la réglementation relative au bruit routier ? \",\"\" \\n\\n      :\"En effet, le CNB et l\\'ADEME ont publié en juillet 2021 une nouvelle évaluation du coût social des infrastructures de transport routière qui indique que les activités liées aux transports sont responsables d\\'un budget important pour la France. Mais aussi qu\\'en vous-même ? Quels impacts peut votre projet avoir sur l’environnement et vos voisins, si tu as un certain impact en lien avec le programme?\"}\\n\\n \\n\\n\\n\\n\\n\\n     \\n\\n\\n\\n  \\n\\n\\n\\n\\n   \\n\\n\\n\\n\\n\\n\\n\\n    \\n    \\n\\n\\n           \\n\\n         \\n\\n\\n\\n        \\n\\n\\n\\n\\n\\n\\n      '"
      ]
     },
     "execution_count": 72,
     "metadata": {},
     "output_type": "execute_result"
    }
   ],
   "source": [
    "response['response']"
   ]
  },
  {
   "cell_type": "code",
   "execution_count": 86,
   "metadata": {},
   "outputs": [
    {
     "data": {
      "text/plain": [
       "{'Q1': \"Pourriez-vous préciser comment la formation sur l'étude acoustique s'appliquerait à votre projet de revitalisation d’une zone humide ?\",\n",
       " 'Q2': 'Quelles sont les réglementations spécifiques liées au bruit que vous devrez prendre en compte dans le cadre du développement durable et environnemental pour ce type de projets ? ',\n",
       " 'Q3': \"Avez-vous déjà des connaissances sur l'acoustique applicables aux infrastructures routières ou cette formation serait-elle plus adaptée comme point d’entrée initial?\"}"
      ]
     },
     "execution_count": 86,
     "metadata": {},
     "output_type": "execute_result"
    }
   ],
   "source": [
    "json_text = response['response']\n",
    "\n",
    "# Remplacer les caractères HTML par une apostrophe\n",
    "json_text = json_text.replace('&#39;', \"'\")\n",
    "\n",
    "# Convertir la chaîne en dictionnaire Python\n",
    "response_json = json.loads(json_text)\n",
    "\n",
    "response_json"
   ]
  },
  {
   "cell_type": "code",
   "execution_count": 93,
   "metadata": {},
   "outputs": [
    {
     "data": {
      "text/plain": [
       "array([\"\\n**Description :**\\n\\n\\n\\n\\n Le bruit routier est la première source de nuisance citée par les Français à leur domicile. Le Conseil National du Bruit (CNB) et l'Agence de la Transition écologique (ADEME) ont publié en juillet 2021 une nouvelle évaluation du coût social du bruit en France qui indique que le bruit des infrastructures de transport routières représente un coût de plus de 80 milliards d'euros par an.\\n\\n\\n\\n\\n Le bruit émis par les infrastructures de transport routières s'inscrit dans un corpus réglementaire ancien, cependant l'Autorité environnementale (Ae) pointe régulièrement les lacunes dans les études acoustiques, qui peuvent impacter directement la qualité de vie des riverains de ces projets.\\n\\n\\n\\n\\n Cette formation proposée en deux modules vous aidera à mieux appréhender les obligations des gestionnaires routiers, à conduire une étude d'impact acoustique et plus globalement à comprendre l'articulation des différents axes de la politique de lutte contre le bruit : Cartes de Bruit Stratégiques, Classement Sonore des Voies, résorption des Points Noirs du Bruit et protection des riverains\\n\\n\\n\\n\\n**Objectifs pédagogiques :**\\n\\n\\n\\n\\n À l'issue de ce module, les stagiaires seront capables de :\\n\\n\\n\\n* Suivre la réalisation d'une étude d'impact acoustique à chaque étape de conception d'un projet\\n* Analyser la qualité des résultats d'une campagne de mesure ou d'une modélisation\\n* Prendre en compte des aspects innovants dans la lutte contre le bruit\\n\\n\\n\\n**Programme :**\\n\\n\\n\\n\\n Matinée\\n\\n\\n\\n\\n 9h30 – 10h00 : Présentation de l'équipe d'animation et attentes des stagiaires\\n\\n\\n\\n\\n 10h00 – 10h30 : Bref rappel des notions de base de l'acoustique et de la réglementation applicable aux projets de transport routier\\n\\n\\n\\n\\n 10h30 – 11h30 : Les différents niveaux d'études acoustiques (illustrations par l'exemple)\\n\\n\\n\\n\\n 11h30 – 12h30 : Présentation et analyse d'une étude de cas\\n\\n\\n\\n\\n Après\\\\-midi\\n\\n\\n\\n\\n 14h00 – 15h00 : Atelier, mesure acoustique (organisation, exploitation, ...)\\n\\n\\n\\n\\n 15h00 – 16h15 : Atelier, étude d'impact (contenu et points de vigilance, ...)\\n\\n\\n\\n\\n 16h15 – 17h15 : Pour une meilleure intégration de la réglementation\\n\\n\\n\\n\\n 17h15 – 17h30 : Temps d'échange et évaluation de la journée\\n\\n\\n\\n\\n**Outils pédagogiques :** \\n\\n\\n\\n* Exposés théoriques\\n* Études de cas\\n* Mise en situation\\n* Retours d'expérience\\n\\n\\n\\n**Modalités de validation individuelle des acquis en fin de formation :** \\n\\n\\n\\n\\n Quiz en fin de journée\\n\\n\\n\\n\\n**Frais d'inscription :** \\n\\n\\n\\n\\n 600€ HT par stagiaire (TVA à 0 %)\\n\\n\\n\\n\\n Déjeuner compris\\n\\n\\n\",\n",
       "       \"**Objectifs**\\n\\nLa Communauté de Communes\\r\\nFalaises du Talou, compétente en matière d’actions de développement économique,\\r\\nsouhaite conforter le tissu économique territorial et renforcer l’attractivité\\r\\ndu territoire intercommunal et la vitalité des centres\\\\-bourgs, en aidant les\\r\\ncommerces à se moderniser.  \\n\\n\\nCette aide, portée par la\\r\\nCommunauté de communes Falaises du Talou, est élaborée en partenariat avec la Région\\r\\nNormandie.\\n\\nElle est mise en place pour une\\r\\ndurée de 3 ans à compter de son lancement par délibération du Conseil\\r\\nCommunautaire en date du 13 février 2024\\\\. Le dispositif prend fin le 12 février\\r\\n2026\\\\.\\n\\n\\n\\n\\nLes aides ne seront versées que\\r\\nsous réserve des crédits disponibles et dans la limite de l’enveloppe allouée à\\r\\ncette opération par les différentes parties prenantes.\\n\\n**Dépenses éligibles**\\n\\n\\\\-\\xa0\\xa0\\xa0\\xa0\\xa0\\xa0\\xa0\\r\\nModernisation des locaux d’activités comprenant\\r\\nl’aménagement, l’agencement des locaux de vente ainsi que les prestations de\\r\\nconseil réalisées en amont des travaux.\\n\\n\\\\-\\xa0\\xa0\\xa0\\xa0\\xa0\\xa0\\xa0\\r\\nAcquisition de nouveaux équipements professionnels,\\r\\nde nouveaux matériels de production apportant une réelle plus\\\\-value à\\r\\nl’entreprise. Le matériel d’occasion est éligible sous réserve de production\\r\\nd’actes authentifiant la vente.\\n\\n\\\\-\\xa0\\xa0\\xa0\\xa0\\xa0\\xa0\\xa0\\r\\nTravaux de modernisation des locaux\\r\\nprofessionnels permettant des économies d’énergie.\\n\\n\\\\-\\xa0\\xa0\\xa0\\xa0\\xa0\\xa0\\xa0\\r\\nAcquisition de matériel de caisse, de logiciels\\r\\nd’exploitation, de solutions numériques améliorant directement la productivité\\r\\net le service rendu aux consommateurs en dehors de tout renouvellement.\\n\\n\\\\-\\xa0\\xa0\\xa0\\xa0\\xa0\\xa0\\xa0\\r\\nTravaux d’embellissement des devantures et\\r\\nfaçades (vitrines, habillages, peintures, enduits, enseigne, stores, travaux de\\r\\ndémontage, prestations de conseil). L’éclairage devra respecter toutes les\\r\\nnormes de sobriété énergétique.\\n\\n\\\\-\\xa0\\xa0\\xa0\\xa0\\xa0\\xa0\\xa0\\r\\nSécurisation et l’accessibilité de\\r\\nl’établissement à tous publics.\\n\\n\\\\-\\xa0\\xa0\\xa0\\xa0\\xa0\\xa0\\xa0\\r\\nAménagement des véhicules de tournée (hors coût\\r\\nd’acquisition).\\n\\n**Dépenses non éligibles**\\n\\n\\\\-\\xa0\\xa0\\xa0\\xa0\\xa0\\xa0\\xa0\\r\\nAchat de fonds de commerce, reprises de bail ou\\r\\nde pas de porte.\\n\\n\\\\-\\xa0\\xa0\\xa0\\xa0\\xa0\\xa0\\xa0\\r\\nAcquisition, construction, extension de locaux.\\n\\n\\\\-\\xa0\\xa0\\xa0\\xa0\\xa0\\xa0\\xa0\\r\\nParkings ou aménagements extérieurs (autres que\\r\\nliés à l’accessibilité ou l’embellissement des devantures).\\n\\n\\\\-\\xa0\\xa0\\xa0\\xa0\\xa0\\xa0\\xa0\\r\\nDépenses déjà retenues dans le cadre du\\r\\ndispositif régional création /reprise «\\xa0Coup\\r\\nde pouce\\xa0».\\n\\n\\\\-\\xa0\\xa0\\xa0\\xa0\\xa0\\xa0\\xa0\\r\\nTravaux\\r\\nrelatifs aux logements des exploitants.\\n\\n\\\\-\\xa0\\xa0\\xa0\\xa0\\xa0\\xa0\\xa0\\r\\nAuto\\\\-construction\\r\\nou auto\\\\-réalisation des travaux.\\n\\n\\\\-\\xa0\\xa0\\xa0\\xa0\\xa0\\xa0\\xa0\\r\\nInvestissements\\r\\nimmatériels (sauf ceux liés au processus de production).\\n\\n\\\\-\\xa0\\xa0\\xa0\\xa0\\xa0\\xa0\\xa0\\r\\nInvestissements financés par crédit\\\\-bail ou SCI.\\n\\n\\\\-\\xa0\\xa0\\xa0\\xa0\\xa0\\xa0\\xa0\\r\\nDépenses courantes et réparations ou de simple\\r\\nrenouvellement à l’identique de matériel c’est\\\\-à\\\\-dire n’entrant pas dans le\\r\\ncadre d’un investissement visant à développer ou améliorer les conditions\\r\\nd’exercices de l’activité\\r\\n(réparation ou renouvellement à l’identique).\\n\\n\\\\-\\xa0\\xa0\\xa0\\xa0\\xa0\\xa0\\xa0\\r\\nDistributeurs automatiques et armoires libre\\\\-service\\xa0en accès direct. \\n\\n\\\\-\\xa0\\xa0\\xa0\\xa0\\xa0\\xa0\\xa0\\r\\nLes travaux réalisés par l’entreprise elle\\\\-même.\\n\\n\\n\\n\\nChaque demande devra veiller à\\r\\nrespecter une démarche vertueuse en matière environnementale et de gestions des\\r\\nénergies (sobriété énergétique, matériaux de qualité, maîtrise des fluides).\\n\\n**Montant et modalités de l'aide**\\n\\nLe taux de subvention sera de **40%\\r\\ndes dépenses éligibles hors taxes**, plafonnée à 24\\xa0000\\r\\neuros de subventions.\\n\\nMontant minimum de dépenses\\xa0: 3\\xa0000 euros hors taxes\\n\\nDeux demandes d’aides pourront être effectuées au maximum sur la\\r\\npériode du programme sans dépasser au cumul le plafond de la subvention\\r\\nci\\\\-dessus fixé. Les deux demandes ne peuvent pas concerner les mêmes types de\\r\\ndépenses.\\n\\nL’investissement doit être effectué dans un délai de 1 an suivant la\\r\\ndate de notification à l’éligibilité de la subvention.\\n\\nLe demandeur devra retirer un dossier de demande d’aide au service Développement\\r\\nÉconomique de la Communauté de communes Falaises du Talou. Celui\\\\-ci devra être\\r\\ncomplété et retourné avec les pièces justificatives par voie postale auprès du\\r\\nPrésident de la Communauté de communes Falaises du Talou.\\n\\nUne fois le dossier reconnu complet, le demandeur recevra un accusé de\\r\\nréception valant autorisation de commencement anticipé et permettant d’engager\\r\\nles travaux ou les investissements. \\n\\n**Important****: Aucun commencement d’exécution du projet\\r\\nne peut être opéré avant qu’il ait été accusé réception du dossier complet de\\r\\ndemande d’aide par la Communauté de communes.** \\n\\n**L’accusé de réception ne présage en aucun cas de la décision finale d’octroi\\r\\nde la subvention.**\\n\\n**Modalité d'attribution**\\n\\nLa décision d’attribution sera validée par le Conseil Communautaire de\\r\\nla Communauté de communes.\\n\\nLe Comité consultatif émettra un avis avant la décision du Conseil\\r\\nCommunautaire. Il est composé du Président de la Communauté de communes ou son\\r\\nreprésentant, du Vice\\\\-Président en charge du développement économique, des\\r\\nmembres de la Commission Economie de la Communauté de communes. Par ailleurs,\\r\\nil est aussi composé d’un représentant de la Région Normandie, d’un\\r\\nreprésentant de la Chambre de Commerce et d’un représentant de la Chambre de\\r\\nMétiers et de l’Artisanat.\\n\\nIl peut être demandé au demandeur de présenter son projet devant le\\r\\nComité consultatif.\\n\\nL’attribution de l’aide est notifiée par la Communauté de communes\\r\\nFalaises du Talou après validation par le Conseil Communautaire.\\n\\n**Modalité de versement**\\n\\nLe bénéficiaire dispose d’un délai de 6 mois après la date\\r\\nd’attribution du Conseil Communautaire pour fournir les factures acquittées à\\r\\nla Communauté de communes. Le versement effectif de la subvention intervient\\r\\ndans un délai de 2 mois maximum à compter de la production des pièces\\r\\nci\\\\-dessous auprès de Falaises du Talou\\xa0:\\n\\n* Copie de l’ensemble des factures\\r\\nacquittées et certifiées concernant l’opération ;\\n* Photographies de l’opération réalisée.\\n\\n\\n\\nCette aide sera versée en une seule fois. \\n\\n\\nSi le montant des factures est inférieur aux devis présentés dans le\\r\\ndossier de demande de subvention, le montant de l’aide sera ajusté au montant\\r\\ndes dépenses réelles dans le respect du montant plancher minimal. Dans le cas\\r\\ninverse, le montant de l’aide ne sera pas revalorisé.\\n\\n\\nLa Communauté de communes se réserve le droit de contrôler si les\\r\\ninvestissements ont bien eu lieu conformément à la demande initiale.\\n\\n  \\n\\n\\n\\n**Engagement du bénéficiaire**\\n\\n\\nLe bénéficiaire de l’aide s’engage à apposer pendant 3 mois et de\\r\\nmanière visible une affiche A3 mentionnant les aides de la collectivité et de\\r\\nla Région Normandie. \\n\\n\\nPar ailleurs le demandeur de l’aide s’engage à maintenir active son entreprise\\r\\nsur le territoire au moins 2 ans après la perception de la subvention, sous\\r\\nréserve de remboursement de l’aide accordée.\\n\\n  \\n\\n\\n\",\n",
       "       \"\\n Contexte et objectifs\\n\\n\\n\\n\\n La région Occitanie a la chance de pouvoir appuyer son développement sur un patrimoine lié à l'eau d'une richesse exceptionnelle. La préservation des ressources en eau constitue un enjeu majeur dans notre région, que ce soit d'un point de vue environnemental ou pour le développement démographique et économique.\\n\\n\\n\\n\\n Parmi les menaces pesant sur la ressource, la France est le premier consommateur de\\n **produits phytosanitaires** \\n en Europe. Leurs impacts sur les milieux aquatiques, la faune et la santé ne sont plus à démontrer. Ils sont notamment porteurs de nombreux\\n **perturbateurs endocriniens responsables de maladies chroniques et autres troubles majeurs** \\n . Les problématiques rencontrées sont présentes sur l'ensemble du territoire. Les récentes évolutions réglementaires (loi Labbé) n'autorisent plus les collectivités, depuis le 1er janvier 2017, à utiliser des produits phytosanitaires d'origine chimique (hors exceptions) pour l'entretien des espaces verts, des voiries ou des promenades accessibles au public.\\n **Toutefois, les espaces gérés par les structures privées ne sont pas encore concernés par une obligation réglementaire.** \\n\\n\\n\\n\\n Au travers de cet appel à projets, la Région Occitanie souhaite favoriser l'émergence de démarches exemplaires en matière de\\n **réduction de l'usage de produits phytosanitaires dans les campings, infrastructures de loisirs et terrains sportifs** \\n :\\n\\n\\n\\n* réalisation de diagnostics de consommation\\n* modification des pratiques\\n* gestion paysagère différenciée\\n* actions de formation des employés ou de sensibilisation de la clientèle\\n* etc.\\n\\n\\n\\n**Bénéficiaires** \\n\\n\\n\\n* Maîtres d'ouvrages privés dont les entreprises relèvent du secteur touristique et sont inscrites au Registre du Commerce et des Sociétés pour des prestations d'hébergement (hôtellerie traditionnelle, hôtellerie de plein air, villages de vacances, ...) ou de loisirs (sites patrimoniaux, espaces de loisirs, d'attraction et culturels),\\n* Collectivités territoriales gestionnaires d'un équipement touristique ou d'un terrain sportif,\\n* Associations Loi 1901 dont l'objet porte sur l'activité touristique ou sportive.\\n\\n\\n\\n Montant\\n\\n\\n\\n\\n Le présent appel à projets est doté d'une enveloppe globale de\\n **1 M€** \\n . L'aide apportée aux projets retenus représentera\\n **80% de l'assiette éligible** \\n .\\n\\n\\n\\n\\n Un plafond d'assiette subventionnable est fixé à\\n **100 000 € HT** \\n par projet. Au minimum\\n **20%** \\n d'autofinancement doit être apporté par le maître d'ouvrage. Un plancher d'assiette subventionnable est fixé à\\n **2 000 €** \\n .\\n\\n\\n\\n\\n Modalités de participation\\n\\n\\n\\n\\n Consultez le cahier des charges en téléchargement (en bas de la présente page) ainsi que le dossier de candidature.\\n\\n\\n\\n\\n Date limite de dépôt des dossiers\\n **31 janvier 2020** \\n\\n\\n\"],\n",
       "      dtype=object)"
      ]
     },
     "execution_count": 93,
     "metadata": {},
     "output_type": "execute_result"
    }
   ],
   "source": [
    "data_project_score_select[data_project_score_select['project']==\"Revitalisation d'une zone humide\"].description_md.values[:3]"
   ]
  },
  {
   "cell_type": "code",
   "execution_count": 108,
   "metadata": {},
   "outputs": [],
   "source": [
    "project_list = data_project_score_select.project.unique()"
   ]
  },
  {
   "cell_type": "code",
   "execution_count": 124,
   "metadata": {},
   "outputs": [
    {
     "name": "stdout",
     "output_type": "stream",
     "text": [
      "---------------\n",
      "Revitalisation d'une zone humide\n",
      "---------------\n",
      "Entretient d'un vieux moulin\n",
      "---------------\n",
      "Réhabilitation d'une ancienne école en lieu dédié à la santé.\n",
      "---------------\n",
      "Voir fiche action PVD /ORT n°21 Après une première phase d’aménagement, la commune poursuit son action dans le cadre d’une 2ème phase d’aménagement. Cette prochaine étape concerne : - La mise en accessibilité du site aux personnes en situation de handicap et l’installation d’équipements en accès libre favorisant la pratique physique. - La protection de l’environnement par l’installation de sanitaires autonomes et la création d’un site O déchets - La création d'un parcours pédagogique\n",
      "---------------\n",
      "La commune dispose d'outils numériques qu'il est nécessaire d'optimiser et coordonner\n",
      "---------------\n",
      "Création d’un sentier thématique sur la forêt à Rieutord et sur le patrimoine à Usclades\n",
      "---------------\n",
      "Je souhaite refaire la voirie communal\n",
      "---------------\n",
      "Le projet consiste en l’aménagement d’un terrain communal en cœur de commune, jouxtant une structure crèche multi-accueil et un pôle culturel (médiathèque avec une salle attenante). La commune porte le projet d’aménager le reste du site, afin d’offrir aux habitants des espaces de loisirs et de rencontres intergénérationnelles, en lien à la fois avec ces nouvelles structures, mais également avec les usages existants. Avec l’implication des élus du Conseil Municipal des Jeunes, plusieurs hypothèses sont imaginées avec la volonté d’installer / aménager des jeux pour jeunes enfants, des espaces de rencontres, des cheminements, des dispositifs en faveur de la biodiversité, des arbres fruitiers, d’instaurer l’opération « Une naissance, un arbre\n"
     ]
    }
   ],
   "source": [
    "number_of_sub = 3\n",
    "\n",
    "data_list_out = []\n",
    "\n",
    "for project_description in project_list:\n",
    "    data_project_best = data_project_score_select[data_project_score_select['project']==project_description].sort_values(\"project_score\")[-number_of_sub:]\n",
    "    sub_description_list = data_project_best['description_md'].values\n",
    "    sub1,sub2,sub3 = sub_description_list\n",
    "\n",
    "    try:\n",
    "        prompt_system, prompt_user = gen_prompt_question_multi_sub(sub_description_list,project_description,num_question)\n",
    "        response = generate_ollama_request(\n",
    "            prompt_system=prompt_system,\n",
    "            response_format=\"json\",\n",
    "            prompt_user=prompt_user,\n",
    "            ollama_api_url=ollama_api_url,\n",
    "            bearer_token=ollama_bearer_token,\n",
    "            model_options = model_options,  # Default to None\n",
    "            model=model, \n",
    "            request_options= request_options,  # Default to None\n",
    "            seed=0,\n",
    "            )\n",
    "\n",
    "        json_text = response['response']\n",
    "\n",
    "        # Remplacer les caractères HTML par une apostrophe\n",
    "        json_text = json_text.replace('&#39;', \"'\")\n",
    "\n",
    "        # Convertir la chaîne en dictionnaire Python\n",
    "        response_json = json.loads(json_text)\n",
    "\n",
    "        q1 = response_json['Q1']\n",
    "        q2 = response_json['Q2']\n",
    "        q3 = response_json['Q3']\n",
    "\n",
    "        data_list_out.append([project_description,sub1,sub2,sub3,q1,q2,q3])\n",
    "        print('---------------')\n",
    "        print(project_description)\n",
    "    except Exception as error:\n",
    "        print(error)"
   ]
  },
  {
   "cell_type": "code",
   "execution_count": 130,
   "metadata": {},
   "outputs": [],
   "source": [
    "data_question = pd.DataFrame(data_list_out,columns=['project','sub1','sub2','sub3','q1','q2','q3'])\n",
    "data_question.to_csv('hard-database/data_question.csv')"
   ]
  }
 ],
 "metadata": {
  "kernelspec": {
   "display_name": "Python 3",
   "language": "python",
   "name": "python3"
  },
  "language_info": {
   "codemirror_mode": {
    "name": "ipython",
    "version": 3
   },
   "file_extension": ".py",
   "mimetype": "text/x-python",
   "name": "python",
   "nbconvert_exporter": "python",
   "pygments_lexer": "ipython3",
   "version": "3.11.10"
  }
 },
 "nbformat": 4,
 "nbformat_minor": 2
}
