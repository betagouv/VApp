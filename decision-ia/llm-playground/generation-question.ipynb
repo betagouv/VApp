{
 "cells": [
  {
   "cell_type": "markdown",
   "metadata": {},
   "source": [
    "# Import"
   ]
  },
  {
   "cell_type": "code",
   "execution_count": 1,
   "metadata": {},
   "outputs": [],
   "source": [
    "from decouple import Config, RepositoryEnv\n",
    "from ollama_interaction import embeding_ollama_request,generate_ollama_request\n",
    "\n",
    "import pandas as pd\n",
    "import plotly.express as px\n",
    "import json"
   ]
  },
  {
   "cell_type": "markdown",
   "metadata": {},
   "source": [
    "## Import des données sur les modèles\n",
    "Nous importons les modèles servant de base pour VApp. Par défaut, les modèles sont quantifiés en int4."
   ]
  },
  {
   "cell_type": "code",
   "execution_count": 2,
   "metadata": {},
   "outputs": [
    {
     "name": "stdout",
     "output_type": "stream",
     "text": [
      "model : mistral-nemo:latest\n",
      "model : mistral-small:latest\n",
      "model : qwen2.5:14b\n",
      "model : qwen2.5:32b\n",
      "model : llama3.2:1b\n",
      "model : llama3.1:latest\n"
     ]
    }
   ],
   "source": [
    "# context option are based on https://github.com/NVIDIA/RULER\n",
    "# If model is not on doc we take the nearest one\n",
    "\n",
    "# best context is based on  Effective length\n",
    "# max context is base on claimed length\n",
    "\n",
    "with open('model-data.json','r') as file:\n",
    "    model_data = json.load(file)\n",
    "\n",
    "for item in list(model_data.keys()):\n",
    "    print('model :',item)"
   ]
  },
  {
   "cell_type": "code",
   "execution_count": 3,
   "metadata": {},
   "outputs": [],
   "source": [
    "config = Config(RepositoryEnv('.env'))\n",
    "\n",
    "ollama_api_url = config('OLLAMA_API_URL')\n",
    "ollama_bearer_token = config('OLLAMA_BEARER_TOKEN')"
   ]
  },
  {
   "cell_type": "markdown",
   "metadata": {},
   "source": [
    "## Import data base de travail\n",
    "Import de la base de données générée dans generation-score.ipynb."
   ]
  },
  {
   "cell_type": "code",
   "execution_count": 4,
   "metadata": {},
   "outputs": [],
   "source": [
    "data_project_score = pd.read_csv(\"hard-database/data_project_scoring.csv\")\n",
    "data_project_score['project_len_char'] = data_project_score['project_description'].apply(len)"
   ]
  },
  {
   "cell_type": "code",
   "execution_count": 5,
   "metadata": {},
   "outputs": [
    {
     "data": {
      "text/html": [
       "<div>\n",
       "<style scoped>\n",
       "    .dataframe tbody tr th:only-of-type {\n",
       "        vertical-align: middle;\n",
       "    }\n",
       "\n",
       "    .dataframe tbody tr th {\n",
       "        vertical-align: top;\n",
       "    }\n",
       "\n",
       "    .dataframe thead th {\n",
       "        text-align: right;\n",
       "    }\n",
       "</style>\n",
       "<table border=\"1\" class=\"dataframe\">\n",
       "  <thead>\n",
       "    <tr style=\"text-align: right;\">\n",
       "      <th></th>\n",
       "      <th>Unnamed: 0</th>\n",
       "      <th>slug</th>\n",
       "      <th>url</th>\n",
       "      <th>name</th>\n",
       "      <th>name_initial</th>\n",
       "      <th>short_title</th>\n",
       "      <th>financers</th>\n",
       "      <th>financers_full</th>\n",
       "      <th>instructors</th>\n",
       "      <th>instructors_full</th>\n",
       "      <th>...</th>\n",
       "      <th>project_description</th>\n",
       "      <th>project_score</th>\n",
       "      <th>scoring_made</th>\n",
       "      <th>scoring_error</th>\n",
       "      <th>request_time_total</th>\n",
       "      <th>request_time_single</th>\n",
       "      <th>gpu</th>\n",
       "      <th>corrected_normalize_score</th>\n",
       "      <th>corrected_project_score</th>\n",
       "      <th>project_len_char</th>\n",
       "    </tr>\n",
       "  </thead>\n",
       "  <tbody>\n",
       "    <tr>\n",
       "      <th>169</th>\n",
       "      <td>143389</td>\n",
       "      <td>eb7b-developper-un-projet-maas-formation-pour-...</td>\n",
       "      <td>/aides/eb7b-developper-un-projet-maas-formatio...</td>\n",
       "      <td>Développer un projet MaaS : pour un accès uniq...</td>\n",
       "      <td>NaN</td>\n",
       "      <td>NaN</td>\n",
       "      <td>['Cerema']</td>\n",
       "      <td>[{'id': 58, 'name': 'Cerema', 'logo': 'https:/...</td>\n",
       "      <td>[]</td>\n",
       "      <td>[]</td>\n",
       "      <td>...</td>\n",
       "      <td>Revitalisation d'une zone humide</td>\n",
       "      <td>23</td>\n",
       "      <td>5</td>\n",
       "      <td>0</td>\n",
       "      <td>0.823581</td>\n",
       "      <td>0.164716</td>\n",
       "      <td>H100</td>\n",
       "      <td>0.96</td>\n",
       "      <td>4.6</td>\n",
       "      <td>32</td>\n",
       "    </tr>\n",
       "    <tr>\n",
       "      <th>178</th>\n",
       "      <td>144512</td>\n",
       "      <td>4b03-aide-pour-la-gestion-et-la-valorisation-d...</td>\n",
       "      <td>/aides/4b03-aide-pour-la-gestion-et-la-valoris...</td>\n",
       "      <td>Financer la gestion et la valorisation des cou...</td>\n",
       "      <td>NaN</td>\n",
       "      <td>NaN</td>\n",
       "      <td>['Conseil départemental des Landes']</td>\n",
       "      <td>[{'id': 622, 'name': 'Conseil départemental de...</td>\n",
       "      <td>[]</td>\n",
       "      <td>[]</td>\n",
       "      <td>...</td>\n",
       "      <td>Revitalisation d'une zone humide</td>\n",
       "      <td>23</td>\n",
       "      <td>5</td>\n",
       "      <td>1</td>\n",
       "      <td>0.960288</td>\n",
       "      <td>0.160048</td>\n",
       "      <td>H100</td>\n",
       "      <td>0.96</td>\n",
       "      <td>4.6</td>\n",
       "      <td>32</td>\n",
       "    </tr>\n",
       "    <tr>\n",
       "      <th>584</th>\n",
       "      <td>73256</td>\n",
       "      <td>fdb3-faciliter-lemission-de-cautions-dans-le-c...</td>\n",
       "      <td>/aides/fdb3-faciliter-lemission-de-cautions-da...</td>\n",
       "      <td>Faciliter l'émission de cautions dans le cadre...</td>\n",
       "      <td>NaN</td>\n",
       "      <td>NaN</td>\n",
       "      <td>['Bpifrance']</td>\n",
       "      <td>[{'id': 416, 'name': 'Bpifrance', 'logo': 'htt...</td>\n",
       "      <td>[]</td>\n",
       "      <td>[]</td>\n",
       "      <td>...</td>\n",
       "      <td>Revitalisation d'une zone humide</td>\n",
       "      <td>23</td>\n",
       "      <td>5</td>\n",
       "      <td>1</td>\n",
       "      <td>0.964971</td>\n",
       "      <td>0.160828</td>\n",
       "      <td>H100</td>\n",
       "      <td>0.96</td>\n",
       "      <td>4.6</td>\n",
       "      <td>32</td>\n",
       "    </tr>\n",
       "  </tbody>\n",
       "</table>\n",
       "<p>3 rows × 60 columns</p>\n",
       "</div>"
      ],
      "text/plain": [
       "     Unnamed: 0                                               slug  \\\n",
       "169      143389  eb7b-developper-un-projet-maas-formation-pour-...   \n",
       "178      144512  4b03-aide-pour-la-gestion-et-la-valorisation-d...   \n",
       "584       73256  fdb3-faciliter-lemission-de-cautions-dans-le-c...   \n",
       "\n",
       "                                                   url  \\\n",
       "169  /aides/eb7b-developper-un-projet-maas-formatio...   \n",
       "178  /aides/4b03-aide-pour-la-gestion-et-la-valoris...   \n",
       "584  /aides/fdb3-faciliter-lemission-de-cautions-da...   \n",
       "\n",
       "                                                  name name_initial  \\\n",
       "169  Développer un projet MaaS : pour un accès uniq...          NaN   \n",
       "178  Financer la gestion et la valorisation des cou...          NaN   \n",
       "584  Faciliter l'émission de cautions dans le cadre...          NaN   \n",
       "\n",
       "    short_title                             financers  \\\n",
       "169         NaN                            ['Cerema']   \n",
       "178         NaN  ['Conseil départemental des Landes']   \n",
       "584         NaN                         ['Bpifrance']   \n",
       "\n",
       "                                        financers_full instructors  \\\n",
       "169  [{'id': 58, 'name': 'Cerema', 'logo': 'https:/...          []   \n",
       "178  [{'id': 622, 'name': 'Conseil départemental de...          []   \n",
       "584  [{'id': 416, 'name': 'Bpifrance', 'logo': 'htt...          []   \n",
       "\n",
       "    instructors_full  ...               project_description project_score  \\\n",
       "169               []  ...  Revitalisation d'une zone humide            23   \n",
       "178               []  ...  Revitalisation d'une zone humide            23   \n",
       "584               []  ...  Revitalisation d'une zone humide            23   \n",
       "\n",
       "    scoring_made scoring_error request_time_total request_time_single   gpu  \\\n",
       "169            5             0           0.823581            0.164716  H100   \n",
       "178            5             1           0.960288            0.160048  H100   \n",
       "584            5             1           0.964971            0.160828  H100   \n",
       "\n",
       "    corrected_normalize_score  corrected_project_score project_len_char  \n",
       "169                      0.96                      4.6               32  \n",
       "178                      0.96                      4.6               32  \n",
       "584                      0.96                      4.6               32  \n",
       "\n",
       "[3 rows x 60 columns]"
      ]
     },
     "execution_count": 5,
     "metadata": {},
     "output_type": "execute_result"
    }
   ],
   "source": [
    "data_project_score_select = data_project_score[data_project_score['project_score']>20]\n",
    "data_project_score_select.head(3)"
   ]
  },
  {
   "cell_type": "markdown",
   "metadata": {},
   "source": [
    "## Usage de la fonction gen_prompt_question_mono_aide"
   ]
  },
  {
   "cell_type": "code",
   "execution_count": 6,
   "metadata": {},
   "outputs": [],
   "source": [
    "# Selection d'un échantillion simple\n",
    "row = data_project_score_select[['description_md','eligibility_md','project_description']].iloc[0]\n",
    "\n",
    "aide_description,aide_eligibility,project_description = row['description_md'],row['eligibility_md'],row['project_description']"
   ]
  },
  {
   "cell_type": "markdown",
   "metadata": {},
   "source": [
    "### Exemple d'usage\n",
    "Pour générer des résumés plus pertinents, nous avons besoin d'un LLM plus \"intelligent\". Notre choix s'est orienté vers Qwen 2.5-14B, qui représente un bon compromis entre vitesse, performance et intelligence."
   ]
  },
  {
   "cell_type": "code",
   "execution_count": 7,
   "metadata": {},
   "outputs": [],
   "source": [
    "# Fonction disponible sous ./prompt_script/gen_prompt_question_mono_aide.py\n",
    "from prompt_script.gen_prompt_question_mono_aide import gen_prompt_question_mono_aide"
   ]
  },
  {
   "cell_type": "code",
   "execution_count": 8,
   "metadata": {},
   "outputs": [],
   "source": [
    "model = \"qwen2.5:14b\"\n",
    "model_options = model_data[model]\n",
    "\n",
    "request_options = {\n",
    "    \"num_ctx\": 16384,\n",
    "    \"num_predict\": 512\n",
    "}\n",
    "\n",
    "num_question = 3\n",
    "\n",
    "\n",
    "prompt_system, prompt_user = gen_prompt_question_mono_aide(aide_description,aide_eligibility,project_description,num_question)\n",
    "\n",
    "response = generate_ollama_request(\n",
    "    prompt_system=prompt_system,\n",
    "    response_format=\"json\",\n",
    "    prompt_user=prompt_user,\n",
    "    ollama_api_url=ollama_api_url,\n",
    "    bearer_token=ollama_bearer_token,\n",
    "    model_options = model_options,  # Default to None\n",
    "    model=model, \n",
    "    request_options= request_options,  # Default to None\n",
    "    seed=0,\n",
    "    )"
   ]
  },
  {
   "cell_type": "markdown",
   "metadata": {},
   "source": [
    "### Convertion au format json\n",
    "**Attention** : lors de l'usage du json il peut rester des reliquats de balise html, un post traitement peux aider"
   ]
  },
  {
   "cell_type": "code",
   "execution_count": 9,
   "metadata": {},
   "outputs": [
    {
     "data": {
      "text/plain": [
       "{'Q1': \"Comment votre projet de revitalisation d'une zone humide est-il lié au concept Mobility-as-a-Service (MaaS) ou pourrait-il en tirer profit ?\",\n",
       " 'Q2': 'Quels objectifs spécifiques visitez-vous avec cette aide/subvention pour le développement du MaaS dans le cadre de la revitalisation des zones humides?',\n",
       " 'Q3': \"Avez-vous identifié les ressources documentaires essentielles ou certains projets emblématiques sur l'application du concept MaaS à un projet similaire, comme celui que vous prévoyez?\"}"
      ]
     },
     "execution_count": 9,
     "metadata": {},
     "output_type": "execute_result"
    }
   ],
   "source": [
    "json_text = response['response']\n",
    "\n",
    "# Remplacer les caractères HTML par une apostrophe\n",
    "json_text = json_text.replace('&#39;', \"'\")\n",
    "\n",
    "# Convertir la chaîne en dictionnaire Python\n",
    "response_json = json.loads(json_text)\n",
    "\n",
    "response_json"
   ]
  },
  {
   "cell_type": "code",
   "execution_count": 10,
   "metadata": {},
   "outputs": [],
   "source": [
    "project_list = data_project_score_select.project_description.unique()"
   ]
  },
  {
   "cell_type": "markdown",
   "metadata": {},
   "source": [
    "## Usage de la fonction gen_prompt_question_mono_aide"
   ]
  },
  {
   "cell_type": "markdown",
   "metadata": {},
   "source": [
    "### Exemple d'usage\n",
    "Nous avons remarqué que l'utilisation de plusieurs aides pour générer les questions était plus pertinente.\n",
    "Nous avons donc implémenté une méthode capable d'intégrer trois questions basées sur un échantillon des trois meilleures aides trouvées.\n",
    "\n",
    "Contrairement à la méthode \"mono\", nous n'intégrons pas l'éligibilité, ce qui permet d'avoir des questions plus générales et moins contraintes par les critères d'éligibilité. Cela aide l'utilisateur à mieux se concentrer sur son projet."
   ]
  },
  {
   "cell_type": "code",
   "execution_count": 11,
   "metadata": {},
   "outputs": [],
   "source": [
    "# Fonction disponible sous ./prompt_script/gen_prompt_question_multi_aide.py\n",
    "from prompt_script.gen_prompt_question_multi_aide import gen_prompt_question_multi_aide"
   ]
  },
  {
   "cell_type": "code",
   "execution_count": 12,
   "metadata": {},
   "outputs": [
    {
     "name": "stdout",
     "output_type": "stream",
     "text": [
      "---------------\n",
      "Revitalisation d'une zone humide\n",
      "---------------\n",
      "Entretient d'un vieux moulin\n",
      "---------------\n",
      "Réhabilitation d'une ancienne école en lieu dédié à la santé.\n",
      "---------------\n",
      "Voir fiche action PVD /ORT n°21 Après une première phase d’aménagement, la commune poursuit son action dans le cadre d’une 2ème phase d’aménagement. Cette prochaine étape concerne : - La mise en accessibilité du site aux personnes en situation de handicap et l’installation d’équipements en accès libre favorisant la pratique physique. - La protection de l’environnement par l’installation de sanitaires autonomes et la création d’un site O déchets - La création d'un parcours pédagogique\n",
      "---------------\n",
      "La commune dispose d'outils numériques qu'il est nécessaire d'optimiser et coordonner\n",
      "---------------\n",
      "Création d’un sentier thématique sur la forêt à Rieutord et sur le patrimoine à Usclades\n",
      "---------------\n",
      "Je souhaite refaire la voirie communal\n",
      "---------------\n",
      "Le projet consiste en l’aménagement d’un terrain communal en cœur de commune, jouxtant une structure crèche multi-accueil et un pôle culturel (médiathèque avec une salle attenante). La commune porte le projet d’aménager le reste du site, afin d’offrir aux habitants des espaces de loisirs et de rencontres intergénérationnelles, en lien à la fois avec ces nouvelles structures, mais également avec les usages existants. Avec l’implication des élus du Conseil Municipal des Jeunes, plusieurs hypothèses sont imaginées avec la volonté d’installer / aménager des jeux pour jeunes enfants, des espaces de rencontres, des cheminements, des dispositifs en faveur de la biodiversité, des arbres fruitiers, d’instaurer l’opération « Une naissance, un arbre\n"
     ]
    }
   ],
   "source": [
    "number_of_sub = 3\n",
    "\n",
    "data_list_out = []\n",
    "\n",
    "request_options = {\n",
    "    \"num_ctx\": 16384,\n",
    "    \"num_predict\": 512\n",
    "}\n",
    "\n",
    "for project_description in project_list:\n",
    "    data_project_best = data_project_score_select[data_project_score_select['project_description']==project_description].sort_values(\"project_score\")[-number_of_sub:]\n",
    "    aide_description_list = data_project_best['description_md'].values\n",
    "    sub1,sub2,sub3 = aide_description_list\n",
    "\n",
    "    try:\n",
    "        prompt_system, prompt_user = gen_prompt_question_multi_aide(aide_description_list,project_description,num_question)\n",
    "        response = generate_ollama_request(\n",
    "            prompt_system=prompt_system,\n",
    "            response_format=\"json\",\n",
    "            prompt_user=prompt_user,\n",
    "            ollama_api_url=ollama_api_url,\n",
    "            bearer_token=ollama_bearer_token,\n",
    "            model_options = model_options,  # Default to None\n",
    "            model=model, \n",
    "            request_options= request_options,  # Default to None\n",
    "            seed=0,\n",
    "            )\n",
    "\n",
    "        json_text = response['response']\n",
    "\n",
    "        # Remplacer les caractères HTML par une apostrophe\n",
    "        json_text = json_text.replace('&#39;', \"'\")\n",
    "\n",
    "        # Convertir la chaîne en dictionnaire Python\n",
    "        response_json = json.loads(json_text)\n",
    "\n",
    "        q1 = response_json['Q1']\n",
    "        q2 = response_json['Q2']\n",
    "        q3 = response_json['Q3']\n",
    "\n",
    "        data_list_out.append([project_description,sub1,sub2,sub3,q1,q2,q3])\n",
    "        print('---------------')\n",
    "        print(project_description)\n",
    "    except Exception as error:\n",
    "        print(error)"
   ]
  },
  {
   "cell_type": "code",
   "execution_count": 13,
   "metadata": {},
   "outputs": [],
   "source": [
    "data_question = pd.DataFrame(data_list_out,columns=['project_description','sub1','sub2','sub3','q1','q2','q3'])\n",
    "data_question.to_csv('hard-database/data_question.csv')"
   ]
  }
 ],
 "metadata": {
  "kernelspec": {
   "display_name": "Python 3",
   "language": "python",
   "name": "python3"
  },
  "language_info": {
   "codemirror_mode": {
    "name": "ipython",
    "version": 3
   },
   "file_extension": ".py",
   "mimetype": "text/x-python",
   "name": "python",
   "nbconvert_exporter": "python",
   "pygments_lexer": "ipython3",
   "version": "3.11.10"
  }
 },
 "nbformat": 4,
 "nbformat_minor": 2
}
