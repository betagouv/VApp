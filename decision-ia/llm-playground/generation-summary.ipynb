{
 "cells": [
  {
   "cell_type": "code",
   "execution_count": 2,
   "metadata": {},
   "outputs": [],
   "source": [
    "from decouple import Config, RepositoryEnv\n",
    "from ollama_interaction import embeding_ollama_request,generate_ollama_request\n",
    "\n",
    "import pandas as pd\n",
    "import json"
   ]
  },
  {
   "cell_type": "code",
   "execution_count": 28,
   "metadata": {},
   "outputs": [
    {
     "name": "stdout",
     "output_type": "stream",
     "text": [
      "model : mistral-nemo:latest\n",
      "model : mistral-small:latest\n",
      "model : qwen2.5:14b\n",
      "model : qwen2.5:32b\n",
      "model : llama3.2:1b\n",
      "model : llama3.1:latest\n"
     ]
    }
   ],
   "source": [
    "# context option are based on https://github.com/NVIDIA/RULER\n",
    "# If model is not on doc we take the nearest one\n",
    "\n",
    "# best context is based on  Effective length\n",
    "# max context is base on claimed length\n",
    "\n",
    "with open('model-data.json','r') as file:\n",
    "    model_data = json.load(file)\n",
    "\n",
    "for item in list(model_data.keys()):\n",
    "    print('model :',item)"
   ]
  },
  {
   "cell_type": "code",
   "execution_count": 29,
   "metadata": {},
   "outputs": [],
   "source": [
    "config = Config(RepositoryEnv('.env'))\n",
    "\n",
    "ollama_api_url = config('OLLAMA_API_URL')\n",
    "ollama_bearer_token = config('OLLAMA_BEARER_TOKEN')"
   ]
  },
  {
   "cell_type": "code",
   "execution_count": 9,
   "metadata": {},
   "outputs": [],
   "source": [
    "data_question = pd.read_csv(\"hard-database/data_question.csv\",index_col=0)"
   ]
  },
  {
   "cell_type": "code",
   "execution_count": 20,
   "metadata": {},
   "outputs": [],
   "source": [
    "project_id = 0\n",
    "\n",
    "\n",
    "project = data_question['project'][project_id]\n",
    "question_list = data_question[['q1','q2','q3']].iloc[project_id].values"
   ]
  },
  {
   "cell_type": "code",
   "execution_count": 23,
   "metadata": {},
   "outputs": [],
   "source": [
    "dumpy_answer_list = [\n",
    "    \"\"\"La revitalisation de la zone humide inclura des aménagements pour améliorer les circulations piétonnes, notamment à travers des sentiers et des passerelles permettant une meilleure accessibilité pour les visiteurs. Ces aménagements favoriseront également une meilleure gestion de la circulation routière aux abords de la zone, réduisant les risques pour les piétons et encourageant un accès sécurisé aux espaces naturels\"\"\",\n",
    "    \"\"\"Le projet est situé dans une commune comptant moins de 10 000 habitants, ce qui permet de bénéficier d’une aide prioritaire dans le cadre de cette subvention. La subvention d’investissement pourrait ainsi couvrir une part significative des coûts de revitalisation, renforçant les actions locales pour la préservation des écosystèmes et l’attractivité de la commune\"\"\",\n",
    "    \"\"\"La revitalisation de la zone humide s'inscrit dans les objectifs de la stratégie touristique départementale en valorisant les espaces naturels comme attraits pour les visiteurs. Ce projet vise à développer un écotourisme durable, en sensibilisant les visiteurs à la préservation des milieux naturels tout en renforçant l'attractivité locale grâce à des équipements respectueux de l'environnement et des parcours éducatifs pour les familles et les éco-touristes\"\"\",\n",
    "    ]"
   ]
  },
  {
   "cell_type": "code",
   "execution_count": 41,
   "metadata": {},
   "outputs": [],
   "source": [
    "def gen_prompt_project_summary(project: str, question_list: list[str], answer_list: list[str]) -> (str, str):\n",
    "    prompt_system = \"\"\"Tu es une IA bienveillante qui aide l'utilisateur à clarifier et synthétiser son projet.\n",
    "\n",
    "    Ton rôle est de reformuler la description du projet en intégrant les réponses aux questions posées, pour aider l'utilisateur à obtenir une version plus détaillée et précise de son projet. \n",
    "    Attention : ne fais aucune mention de subventions, de financement, ou d'aides financières dans la reformulation.\"\"\"\n",
    "    \n",
    "    # Génération du texte des questions-réponses\n",
    "    question_answer_list_text = \"\\n\".join(\n",
    "        [f\"- **Question {i + 1} :** {question_list[i]}\\n  **Réponse :** {answer_list[i]}\\n\" for i in range(len(question_list))]\n",
    "    )\n",
    "\n",
    "    prompt_user = f\"\"\"**Instruction**\n",
    "\n",
    "    Reformule la description du projet de manière concise et précise en tenant compte des réponses de l'utilisateur. La reformulation doit conserver le style initial du projet et rester courte, en une dizaine de paragraphes maximum (tu peux faire moins).\n",
    "\n",
    "    - Ne fais aucune mention de subventions, de financement, ou d'aides financières.\n",
    "    \n",
    "    Voici les informations disponibles pour la reformulation :\n",
    "\n",
    "    - **Description initiale du projet :** {project}\n",
    "    - **Questions et réponses :**\n",
    "    {question_answer_list_text}\n",
    "    \"\"\"\n",
    "\n",
    "    return prompt_system, prompt_user\n"
   ]
  },
  {
   "cell_type": "code",
   "execution_count": 42,
   "metadata": {},
   "outputs": [],
   "source": [
    "model = \"qwen2.5:14b\"\n",
    "model_options = model_data[model]\n",
    "\n",
    "request_options = {\n",
    "    \"num_ctx\": 16384,\n",
    "    \"num_predict\": 2048\n",
    "}\n",
    "\n",
    "num_question = 3\n",
    "\n",
    "prompt_system, prompt_user = gen_prompt_project_summary(project,question_list,answer_list=dumpy_answer_list)\n",
    "\n",
    "response = generate_ollama_request(\n",
    "    prompt_system=prompt_system,\n",
    "    response_format=None,\n",
    "    prompt_user=prompt_user,\n",
    "    ollama_api_url=ollama_api_url,\n",
    "    bearer_token=ollama_bearer_token,\n",
    "    model_options = model_options,  # Default to None\n",
    "    model=model, \n",
    "    request_options= request_options,  # Default to None\n",
    "    seed=0,\n",
    "    )"
   ]
  },
  {
   "cell_type": "code",
   "execution_count": 43,
   "metadata": {},
   "outputs": [
    {
     "name": "stdout",
     "output_type": "stream",
     "text": [
      "### Description Révisée du Projet : Revitalisation d'une Zone Humide \n",
      "\n",
      "Le projet vise la revitalisation d’une zone humide située dans une commune de moins de 10.000 habitants, en mettant l'accent sur des aménagements qui favoriseront à la fois le développement et l'amélioration du tourisme local tout en préservant les écosystèmes naturels.\n",
      "\n",
      "#### Améniations pour Circulations Piétonnes\n",
      "\n",
      "La revitalisation comprendra plusieurs sentiers pédestres ainsi que de nouvelles passerelles. Ces aménagements permettront une meilleure accessibilité des visiteurs à l'intérieur et autour du site, tout en réduisant les risques routiers dans la zone environnante.\n",
      "\n",
      "#### Gestion Améliorée\n",
      "\n",
      "Les nouveaux équipements contribuerons également au meilleur accès sécurisé aux espaces naturels pour piétons. L’objectif est de créer une cohabitation harmonieuse entre l'usage des routes et les déplacements pédestres, en particulier dans le voisinage immédiate du site.\n",
      "\n",
      "#### Objectifs Touristiques\n",
      "\n",
      "Ce projet s'intègre parfaitement aux objectifs stratégiques touristiques départementaux. Il vise à valoriser la zone humide comme un atout majeur pour l'écotourisme et promouvoir des pratiques responsables envers les milieux naturels.\n",
      "\n",
      "#### Éducation Publique\n",
      "\n",
      "En plus de ses aspects aménagement, le projet inclut également une dimension éducative. Des parcours pédagogique seront mis à disposition afin d'informer sur la biodiversité locale tout particulièrement pour un public familial et touristes écologiques curieux des espaces naturels.\n",
      "\n",
      "#### Développement Durable\n",
      "\n",
      "En somme, ce projet de revitalisation vise une approche globale qui intègre le tourisme durable avec les considérations environnementales. Il permettra d’attirer un plus grand nombre de visiteurs tout en préservant la richesse naturelle et culturelle du territoire.\n",
      "\n",
      "Ces initiatives visent à renforcer l'attractivité locale, améliorer les infrastructures pour piétons ainsi que promouvoir une approche éducative vers le respect des zones humides.\n"
     ]
    }
   ],
   "source": [
    "print(response['response'])"
   ]
  }
 ],
 "metadata": {
  "kernelspec": {
   "display_name": "Python 3",
   "language": "python",
   "name": "python3"
  },
  "language_info": {
   "codemirror_mode": {
    "name": "ipython",
    "version": 3
   },
   "file_extension": ".py",
   "mimetype": "text/x-python",
   "name": "python",
   "nbconvert_exporter": "python",
   "pygments_lexer": "ipython3",
   "version": "3.11.10"
  }
 },
 "nbformat": 4,
 "nbformat_minor": 2
}
